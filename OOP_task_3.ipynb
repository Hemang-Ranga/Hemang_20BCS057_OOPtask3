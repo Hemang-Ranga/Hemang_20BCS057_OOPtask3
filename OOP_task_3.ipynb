{
  "nbformat": 4,
  "nbformat_minor": 0,
  "metadata": {
    "colab": {
      "name": "OOP_task-3.ipynb",
      "provenance": [],
      "collapsed_sections": []
    },
    "kernelspec": {
      "name": "python3",
      "display_name": "Python 3"
    },
    "language_info": {
      "name": "python"
    }
  },
  "cells": [
    {
      "cell_type": "markdown",
      "metadata": {
        "id": "MIc2__7bJJ1x"
      },
      "source": [
        "Problem -1"
      ]
    },
    {
      "cell_type": "code",
      "metadata": {
        "colab": {
          "base_uri": "https://localhost:8080/",
          "height": 0
        },
        "id": "D-vdjOvwJKCQ",
        "outputId": "1f2178cf-d7f6-4c87-a56c-f8514dae60ee"
      },
      "source": [
        "class Student(object):\n",
        "    def __init__(self, n, r, a, g, b, s):\n",
        "        self.name = n\n",
        "        self.reg = r\n",
        "        self.age = a\n",
        "        self.gender = g\n",
        "        self.branch = b\n",
        "        self.sem = s\n",
        "    def print_details(self):\n",
        "        print(\"Name of student = \", self.name)\n",
        "        print(\"Reg no. of student = \", self.reg)\n",
        "        print(\"Age of student = \", self.age)\n",
        "        print(\"Gender of student = \", self.gender)\n",
        "        print(\"Branch of student = \", self.branch)\n",
        "        print(\"Semester of student = \", self.sem)\n",
        "class StudentResultInfo(Student):\n",
        "    def __init__(self,n, r, a, g, b, s, tm, per, gr):\n",
        "        self.total_marks = tm\n",
        "        self.percentage = per\n",
        "        self.grade = gr\n",
        "        Student.__init__(self, n, r, a, g, b, s)\n",
        "    def print_info(self):\n",
        "        print(\"Total grade of the student: \", self.tm)\n",
        "        print(\"Percentage of student: \", self.per)\n",
        "        print(\"Grades of student: \", self.gr)\n",
        "\n",
        "Object = StudentResultInfo('Rajesh', 78, 19, 'Male', 2019, '5th', 485, 80.83, 'A')\n",
        "Object.print_details()\n",
        "Object.print_info"
      ],
      "execution_count": 4,
      "outputs": [
        {
          "output_type": "stream",
          "name": "stdout",
          "text": [
            "Name of student =  Rajesh\n",
            "Reg no. of student =  78\n",
            "Age of student =  19\n",
            "Gender of student =  Male\n",
            "Branch of student =  2019\n",
            "Semester of student =  5th\n"
          ]
        },
        {
          "output_type": "execute_result",
          "data": {
            "text/plain": [
              "<bound method StudentResultInfo.print_info of <__main__.StudentResultInfo object at 0x7ff455950910>>"
            ]
          },
          "metadata": {},
          "execution_count": 4
        }
      ]
    },
    {
      "cell_type": "markdown",
      "metadata": {
        "id": "TPksmD-hQ7Dy"
      },
      "source": [
        "Problem-2"
      ]
    },
    {
      "cell_type": "code",
      "metadata": {
        "colab": {
          "base_uri": "https://localhost:8080/",
          "height": 0
        },
        "id": "w5E_TvIEQ8Jp",
        "outputId": "e902a566-9b3d-4142-c245-defbd594d00d"
      },
      "source": [
        "class PDFs:\n",
        "  def __init__(self, creator, description, size):\n",
        "    self.creator = creator\n",
        "    self.description = description\n",
        "    self.size = size\n",
        "\n",
        "  def displayInfo(self):\n",
        "    print(\"Created by:\",self.creator)\n",
        "    print(\"Description:\", self.description)\n",
        "    print(\"File size (in KBs):\", self.size)\n",
        "\n",
        "  def sizeLimit(self):\n",
        "    if self.size > 256:\n",
        "      print(\"Size exceeds threshold.\\n\")\n",
        "    else:\n",
        "      print(\"Size is within the threshold.\\n\")\n",
        "\n",
        "class Pictures(PDFs):\n",
        "  def __init__(self, creator, description, size, dimension):\n",
        "    super().__init__(creator, description, size)\n",
        "    self.dimension = dimension\n",
        "\n",
        "  def displayPicInfo(self):\n",
        "    self.displayInfo()\n",
        "    print(\"Dimensions (in pixels):\", self.dimension)\n",
        "\n",
        "  def dimensionLimit(self):\n",
        "    if self.dimension>2000:\n",
        "      print(\" high dimension!\\n\")\n",
        "    else:\n",
        "      print(\" dimensions are fine.\\n\")\n",
        "      \n",
        "pdf1 = PDFs(\"Hem\", \"xyz\", 109)\n",
        "pdf1.displayInfo()\n",
        "pdf1.sizeLimit()\n",
        "print()\n",
        "img = Pictures(\"ang\", \"abcd\", 43265, 2134)\n",
        "img.displayPicInfo()\n",
        "img.dimensionLimit()"
      ],
      "execution_count": 14,
      "outputs": [
        {
          "output_type": "stream",
          "name": "stdout",
          "text": [
            "Created by: Hem\n",
            "Description: xyz\n",
            "File size (in KBs): 109\n",
            "Size is within the threshold.\n",
            "\n",
            "\n",
            "Created by: ang\n",
            "Description: abcd\n",
            "File size (in KBs): 43265\n",
            "Dimensions (in pixels): 2134\n",
            " high dimension!\n",
            "\n"
          ]
        }
      ]
    },
    {
      "cell_type": "markdown",
      "metadata": {
        "id": "L5vP_fxHTGKE"
      },
      "source": [
        "Problem -3 "
      ]
    },
    {
      "cell_type": "code",
      "metadata": {
        "colab": {
          "base_uri": "https://localhost:8080/",
          "height": 0
        },
        "id": "5gtNuIj8TIl8",
        "outputId": "c3152b4a-bb51-49b9-a16f-e6d4893c25c9"
      },
      "source": [
        "class Vehicle:\n",
        "    def __init__(self, n, m, c=50):\n",
        "        self.name = n\n",
        "        self.mileage = m\n",
        "        self.capacity = c\n",
        "    \n",
        "    def print_details(self):\n",
        "        print(f\"Vehicle Name: {self.name}\")\n",
        "        print(f\"Mileage: {self.mileage}\")\n",
        "        print(f\"Capacity: {self.capacity}\")\n",
        "    \n",
        "    def fare(self):\n",
        "        return self.capacity * 100\n",
        "    \n",
        "\n",
        "class Bus(Vehicle):\n",
        "    \n",
        "    def fare(self):\n",
        "        total_fare = 1.1 * Vehicle.fare(self)\n",
        "        return total_fare\n",
        "    \n",
        "    def print_details(self):\n",
        "        Vehicle.print_details(self)\n",
        "\n",
        "obj = Bus(\"Ram-pyari\", 18, 50)\n",
        "obj.print_details()\n",
        "print(f\"Total fare = {obj.fare()}\")\n"
      ],
      "execution_count": 7,
      "outputs": [
        {
          "output_type": "stream",
          "name": "stdout",
          "text": [
            "Vehicle Name: Ram-pyari\n",
            "Mileage: 18\n",
            "Capacity: 50\n",
            "Total fare = 5500.0\n"
          ]
        }
      ]
    }
  ]
}